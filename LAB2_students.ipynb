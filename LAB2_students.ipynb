{
  "cells": [
    {
      "cell_type": "markdown",
      "metadata": {},
      "source": [
        "# **A. Root finding for scalar nonlinear equations**"
      ]
    },
    {
      "cell_type": "code",
      "execution_count": 2,
      "metadata": {
        "id": "hz_EGMV2NtlX"
      },
      "outputs": [],
      "source": [
        "# import all the packages here\n",
        "import numpy as np\n",
        "import matplotlib.pyplot as plt\n"
      ]
    },
    {
      "cell_type": "code",
      "execution_count": 3,
      "metadata": {
        "id": "JUjNWVjTNyqO"
      },
      "outputs": [],
      "source": [
        "# Function that finds the fixed point of a certain function phi\n",
        "#\n",
        "# Possible usages:\n",
        "# x, success, errEst, xHist = fpIterator(phi, x0, tol, maxit)\n",
        "# x, success, errEst, xHist = fpIterator(phi, x0, tol)\n",
        "# x, success, errEst, xHist = fpIterator(phi, x0)\n",
        "# x, success, errEst, _ = fpIterator(phi, x0, tol, maxit)\n",
        "# x, success, errEst, _ = fpIterator(phi, x0, tol)\n",
        "# x, success, errEst, _ = fpIterator(phi, x0)\n",
        "#\n",
        "# INPUT:\n",
        "# phi           iteration function (function handle)\n",
        "# x0            initial guess for the root\n",
        "# tol           desired tolerance to stop iterations\n",
        "# maxit         maximum number of iterations\n",
        "#\n",
        "# OUTPUT:\n",
        "# x             solution at the final iteration\n",
        "# success       true means converged according to error estimator\n",
        "# errEst        array with error estimate per iterations\n",
        "# xHist         array with solutions per iterations\n",
        "\n",
        "def fpIterator(phi, x0, tol=1e-8, maxit=20):\n",
        "\n",
        "    # initialize your output variables here (x, errEst, xHist)\n",
        "\n",
        "    # loop (at most maxit iterations) to find the root; possible strategies\n",
        "    # \n",
        "    # inside the loop you will have to compute the new guess for the root and\n",
        "    # check for convergence, i.e. check if the error at the current iteration \n",
        "    # reached the tolerance\n",
        "    # if yes >>> break\n",
        "    # if no >>> update the previous iteration x and iterate again\n",
        "\n",
        "    # finally, update the success variable\n",
        "    \n",
        "    xHist = np.zeros(maxit+1) #it's faster to prepare the array and then just overwrite it\n",
        "    xHist[0] = phi(x0)\n",
        "    errEst = np.zeros(maxit+1)\n",
        "    success = False \n",
        "    \n",
        "    for i in range(1, maxit): \n",
        "        xHist[i] = phi(xHist[i-1])\n",
        "        errEst[i-1] = abs(xHist[i] - xHist[i-1])\n",
        "        if errEst[i-1] <= tol: \n",
        "            success= True #if we get a value within the bounds, success updates \n",
        "            break\n",
        "    if np.count_nonzero(xHist) < len(xHist):\n",
        "        xHist = xHist[:np.where(xHist == 0)[0][0]]\n",
        "    \n",
        "    if np.count_nonzero(errEst) < len(errEst):\n",
        "        errEst = errEst[:np.where(errEst == 0)[0][0]]\n",
        "    x= xHist[-1]\n",
        "    \n",
        "    return x, success, errEst, xHist \n"
      ]
    },
    {
      "cell_type": "code",
      "execution_count": 4,
      "metadata": {},
      "outputs": [
        {
          "data": {
            "text/plain": [
              "(0.6180339332287108,\n",
              " False,\n",
              " array([1.07142857e+00, 2.61324042e-02, 1.11110620e-02, 5.00623092e-03,\n",
              "        2.31324717e-03, 1.08123885e-03, 5.08086368e-04, 2.39352838e-04,\n",
              "        1.12888600e-04, 5.32723913e-05, 2.51459355e-05, 1.18709909e-05,\n",
              "        5.60442977e-06, 2.64598775e-06, 1.24925145e-06, 5.89813295e-07,\n",
              "        2.78471343e-07, 1.31476173e-07, 6.20745926e-08]),\n",
              " array([-0.5       ,  0.57142857,  0.59756098,  0.60867204,  0.61367827,\n",
              "         0.61599152,  0.61707275,  0.61758084,  0.61782019,  0.61793308,\n",
              "         0.61798635,  0.6180115 ,  0.61802337,  0.61802898,  0.61803162,\n",
              "         0.61803287,  0.61803346,  0.61803374,  0.61803387,  0.61803393]))"
            ]
          },
          "execution_count": 4,
          "metadata": {},
          "output_type": "execute_result"
        }
      ],
      "source": [
        "a= np.array([0, 2, 0, 4, 5])\n",
        "np.argwhere(a)\n",
        "\n",
        "x0= np.arange(-2, 2, 0.25)\n",
        "\n",
        "phi = lambda x: -1 / (x**2 - 2)\n",
        "\n",
        "fpIterator(phi, 2)"
      ]
    },
    {
      "cell_type": "markdown",
      "metadata": {},
      "source": [
        "## Discussion question A.1(a)\n"
      ]
    },
    {
      "cell_type": "code",
      "execution_count": 5,
      "metadata": {
        "colab": {
          "base_uri": "https://localhost:8080/"
        },
        "id": "xy7cDqnZXywt",
        "outputId": "4246cfa1-abf3-45e8-ff61-a78ba9a0aed5"
      },
      "outputs": [
        {
          "name": "stdout",
          "output_type": "stream",
          "text": [
            "FP iteration results:\n",
            "\n",
            "----------------------------------------------------\n",
            "x0 = -2.00 converged to 0.618033 in 17 iterations.\n",
            "x0 = -1.75 failed to converge. Iterations: 20\n",
            "x0 = -1.50 converged to 0.618033 in 19 iterations.\n",
            "x0 = -1.25 converged to 0.618034 in 19 iterations.\n",
            "x0 = -1.00 converged to 1.000000 in 2 iterations.\n",
            "x0 = -0.75 converged to 0.618035 in 17 iterations.\n",
            "x0 = -0.50 converged to 0.618033 in 16 iterations.\n",
            "x0 = -0.25 converged to 0.618034 in 17 iterations.\n",
            "x0 = 0.00 converged to 0.618033 in 17 iterations.\n",
            "x0 = 0.25 converged to 0.618034 in 17 iterations.\n",
            "x0 = 0.50 converged to 0.618033 in 16 iterations.\n",
            "x0 = 0.75 converged to 0.618035 in 17 iterations.\n",
            "x0 = 1.00 converged to 1.000000 in 2 iterations.\n",
            "x0 = 1.25 converged to 0.618034 in 19 iterations.\n",
            "x0 = 1.50 converged to 0.618033 in 19 iterations.\n",
            "x0 = 1.75 failed to converge. Iterations: 20\n",
            "x0 = 2.00 converged to 0.618033 in 17 iterations.\n"
          ]
        }
      ],
      "source": [
        "## Discussion question A.1(a)\n",
        "\n",
        "# after defining phi, x0, tol and maxit as written in the pdf, you set up \n",
        "# your output as follows\n",
        "\n",
        "#defining the initial functions \n",
        "x0= np.arange(-2, 2.25, 0.25)\n",
        "\n",
        "phi = lambda x: -1 / (x**2 - 2)\n",
        "\n",
        "#running iterator \n",
        "results = []\n",
        "\n",
        "for i,x in enumerate(x0): \n",
        "    results.append(fpIterator(phi, x, 1e-6))\n",
        "    \n",
        "# printing resutls \n",
        "print('FP iteration results:\\n')\n",
        "print('----------------------------------------------------')\n",
        "\n",
        "\n",
        "# you will then add a print line e.g.:\n",
        "for i, val in enumerate(results):\n",
        "    if val[1]: #success is the first element of the tuple returned by fpIterator \n",
        "        print('x0 = %4.2f converged to %4.6f in %d iterations.' % (x0[i], val[0], len(val[3])))\n",
        "    else:\n",
        "        print('x0 = %4.2f failed to converge. Iterations: %d' % (x0[i], len(val[3])))\n"
      ]
    },
    {
      "cell_type": "code",
      "execution_count": 6,
      "metadata": {
        "id": "1cVV-fmGf7U-"
      },
      "outputs": [],
      "source": [
        "# Function that finds the solution of an equation or system of equations\n",
        "# using the Newton method\n",
        "#\n",
        "# Possible usages:\n",
        "# x, success, errEst, xHist = newton(phi, x0, tol, maxit)\n",
        "# x, success, errEst, xHist = newton(phi, x0, tol)\n",
        "# x, success, errEst, xHist = newton(phi, x0)\n",
        "# x, success, errEst, _ = newton(phi, x0, tol, maxit)\n",
        "# x, success, errEst, _ = newton(phi, x0, tol)\n",
        "# x, success, errEst, _ = newton(phi, x0)\n",
        "#\n",
        "# INPUT:\n",
        "# f             function handling (may be vector valued)\n",
        "# df            derivative of f (or function returning Jacobian matrix)\n",
        "# x0            initial guess\n",
        "# tol           desired toleraance to stop iterations\n",
        "# maxit         maximum number of iterations\n",
        "#\n",
        "# OUTPUT:\n",
        "# x             solution at the final iteration\n",
        "# success       true means converged according to error estimator\n",
        "# errEst        array with error estimate per iterations\n",
        "# xHist         array with solutions per iterations\n",
        "#\n",
        "\n",
        "def newton(f, df, x0, tol=1e-8, maxit=20):\n",
        "\n",
        "    # implementation should be trivial using your fpIterator with a properly \n",
        "    # implemented function phi\n",
        "    \n",
        "    phi= lambda x: x - f(x)/df(x)\n",
        "\n",
        "    return fpIterator(phi, x0, tol, maxit)"
      ]
    },
    {
      "cell_type": "markdown",
      "metadata": {},
      "source": [
        "## Discussion question A.2"
      ]
    },
    {
      "cell_type": "code",
      "execution_count": 7,
      "metadata": {
        "colab": {
          "base_uri": "https://localhost:8080/",
          "height": 701
        },
        "id": "GUDZyDsq66BP",
        "outputId": "712c7df4-1630-4ba6-9090-7cbcb5d77810"
      },
      "outputs": [
        {
          "data": {
            "image/png": "[encoded data removed]",
            "text/plain": [
              "<Figure size 640x480 with 1 Axes>"
            ]
          },
          "metadata": {},
          "output_type": "display_data"
        }
      ],
      "source": [
        "## Discussion question A.2\n",
        "\n",
        "# set up inputs and initial guesses\n",
        "# then for all the initial guesses you have to find the root using newton() and\n",
        "# you have to plot xHist\n",
        "\n",
        "# >>> consider cutting your xHist to improve plot readability \n",
        "\n",
        "x0 = [0.2, 0.57, 0.58]\n",
        "\n",
        "f= lambda x: x / (1+x**2)\n",
        "\n",
        "df= lambda x: (1-x**2) / (1+x**2)**2\n",
        "\n",
        "k= [0, 1, 2, 3, 4, 5]\n",
        "\n",
        "for i in x0:\n",
        "    xk= newton(f, df, i, 1e-6)[3][:5]\n",
        "    plt.plot(k[:len(xk)], xk, label= f'{i}')\n",
        "    \n",
        "plt.legend()\n",
        "plt.show()"
      ]
    },
    {
      "cell_type": "markdown",
      "metadata": {},
      "source": [
        "# **B. Root finding for systems of nonlinear equations**"
      ]
    },
    {
      "cell_type": "markdown",
      "metadata": {},
      "source": [
        "## Discussion question B.1"
      ]
    },
    {
      "cell_type": "code",
      "execution_count": 8,
      "metadata": {},
      "outputs": [
        {
          "name": "stdout",
          "output_type": "stream",
          "text": [
            "\n",
            "\n",
            "Convergence order results: \n",
            "\n",
            "    method            order                 factor\n",
            "----------------------------------------------------\n",
            "   Newton             1.7203419699385794      74.77555768101278\n"
          ]
        }
      ],
      "source": [
        "# - set the correct inputs and find the root\n",
        "# - compute the order\n",
        "# - compute the factor\n",
        "# - print out in a readable way, you can use the following code or something similar\n",
        "f= lambda x: x*3 - 2*x + 1\n",
        "\n",
        "df= lambda x: 3*x**2 -2 \n",
        "\n",
        "er = newton(f, df, 1/4, 1e-12, maxit=20)[2]\n",
        "\n",
        "p= np.log(er[-1]/er[-2])/np.log(er[-2]/er[-3])\n",
        "\n",
        "ca= er[-1]/er[-2]**2\n",
        "\n",
        "print('\\n\\nConvergence order results: \\n')\n",
        "print('    method            order                 factor')\n",
        "print('----------------------------------------------------')\n",
        "print(f'   Newton             {p}      {ca}')\n"
      ]
    },
    {
      "cell_type": "markdown",
      "metadata": {},
      "source": [
        "## Discussion question B.2"
      ]
    },
    {
      "cell_type": "code",
      "execution_count": 27,
      "metadata": {
        "colab": {
          "base_uri": "https://localhost:8080/"
        },
        "id": "myXchDJEIWSN",
        "outputId": "10421dc1-1f9e-49c9-bd2d-7fe38239b936"
      },
      "outputs": [
        {
          "name": "stdout",
          "output_type": "stream",
          "text": [
            "(array([0.66666667, 0.33333333]), True, array([0., 0., 0., 0., 0., 0., 0., 0., 0., 0., 0., 0., 0., 0., 0., 0., 0.,\n",
            "       0., 0., 0., 0.]), array([[0.66666667, 0.33333333],\n",
            "       [0.66666667, 0.33333333]]))\n"
          ]
        }
      ],
      "source": [
        "## Discussion question B.2\n",
        "\n",
        "# setup your matrix and vector defining the linear system\n",
        "# then define F(x) and J(x)\n",
        "# use newton to find the solution of the system \n",
        "# correctness of your implementation: which criteria do you need to check?\n",
        "\n",
        "def fpIterator_vec(phi, x0, tol=1e-8, maxit=20):\n",
        "    \n",
        "    xHist = np.zeros(maxit+1, dtype=object) #it's faster to prepare the array and then just overwrite it\n",
        "    #print(phi(x0))\n",
        "    xHist[0] = phi(x0)\n",
        "    errEst = np.zeros(maxit+1)\n",
        "    success = False \n",
        "    \n",
        "    for i in range(1, maxit): \n",
        "        xHist[i] = phi(xHist[i-1])\n",
        "        errEst[i-1] = np.linalg.norm(xHist[i] - xHist[i-1])\n",
        "        if errEst[i-1] <= tol: \n",
        "            success= True #if we get a value within the bounds, success updates \n",
        "            break \n",
        "            \n",
        "    xHist = np.array([elem for elem in xHist if not (isinstance(elem, int) and elem == 0)])\n",
        "    errEst = np.array([elem for elem in errEst if not (isinstance(elem, int) and elem == 0)])\n",
        "    \"\"\"        break\n",
        "    if np.where(np.linalg.norm(xHist) == 0)[0][0] == 20:\n",
        "        xHist = xHist[:np.where(np.linalg.norm(xHist) == 0)[0][0]]\n",
        "    \n",
        "    if np.where(np.linalg.norm(errEst) == 0)[0][0] == 20:\n",
        "        errEst = errEst[:np.where(np.linalg.norm(errEst) == 0)[0][0]]\n",
        "    x= xHist[-1]\n",
        "    \n",
        "    Fix this!!! \n",
        "    \"\"\"\n",
        "    x= xHist[-1]\n",
        "    \n",
        "    return x, success, errEst, xHist \n",
        "\n",
        "def newton_vec(f, jf, x0, tol=1e-8, maxit=20):\n",
        "    \n",
        "    \"\"\"_summary_\n",
        "    f is a vector function \n",
        "    jf is a jacobian of that function \n",
        "    Returns:\n",
        "        _type_: _description_\n",
        "    \"\"\"\n",
        "\n",
        "    # implementation should be trivial using your fpIterator with a properly \n",
        "    # implemented function phi\n",
        "    \n",
        "    phi= lambda x: x - np.matmul(np.linalg.inv(jf(x)),f(x))\n",
        "\n",
        "    return fpIterator_vec(phi, x0, tol, maxit)\n",
        "\n",
        "#definition of matrices \n",
        "A= np.array([[2, -1], [-1, 2]])\n",
        "b= np.array([1, 0])\n",
        "\n",
        "F= lambda x: np.array([2*x[0] - x[1], -x[0] + 2*x[1]]) - b\n",
        "J= lambda x: A\n",
        "\n",
        "sol= newton_vec(F, J, np.array([0,0]), 1e-6)\n",
        "print(sol)\n"
      ]
    },
    {
      "cell_type": "markdown",
      "metadata": {},
      "source": []
    },
    {
      "cell_type": "code",
      "execution_count": 10,
      "metadata": {
        "id": "cUzCshqhQBgB"
      },
      "outputs": [
        {
          "name": "stderr",
          "output_type": "stream",
          "text": [
            "<>:62: SyntaxWarning: invalid escape sequence '\\l'\n",
            "<>:62: SyntaxWarning: invalid escape sequence '\\l'\n",
            "/var/folders/28/8_cllykd4gg_kqtrdpl1th8w0000gn/T/ipykernel_21065/3943218284.py:62: SyntaxWarning: invalid escape sequence '\\l'\n",
            "  plt.title('Colormap corresponds to $\\log_{{10}}\\sqrt{{F_1^2 + F_2^2}}$, where $p = %4.2f $' % p, fontsize=16)\n"
          ]
        }
      ],
      "source": [
        "## THIS FUNCTION IS GIVEN TO THE STUDENTS\n",
        "\n",
        "# plotResidual_partB\n",
        "#\n",
        "# INPUT\n",
        "# p         parameter which shifts the parabola\n",
        "\n",
        "def plotResidual_partB(p):\n",
        "\n",
        "    plt.figure(figsize=(18,10))\n",
        "\n",
        "    nHat = np.array([0.5, 1])\n",
        "    nHat = nHat/np.linalg.norm(nHat)\n",
        "    tHat = np.array([nHat[1], -nHat[0]])\n",
        "    xHat = np.array([[2],[1]])/np.sqrt(2)\n",
        "\n",
        "    # For plotting the curves we parametrize them using angle (F1) and tangential co-ordinate (F2)\n",
        "    par1 = lambda theta, p:  np.array([[2*np.cos(theta)], [np.sin(theta)]])\n",
        "    par2 = lambda t, p: np.outer((tHat), t) + np.outer( (nHat), (np.matmul(nHat,xHat) + (p+0.5*np.power(t-np.matmul(tHat,xHat), 2)) ) )\n",
        "    parametrizations = [par1, par2]\n",
        "\n",
        "    paramRanges = [[0, 2*np.pi], [-1, 2.5]]\n",
        "    paramStyles = ['r-','r--']\n",
        "\n",
        "    N = 100\n",
        "    xLim = [-5, 5]\n",
        "    yLim = [-2.5, 3.5]\n",
        "\n",
        "    # Plot contours of the error\n",
        "    xVals = np.linspace(xLim[0], xLim[1], N)\n",
        "    yVals = np.linspace(yLim[0], yLim[1], N)\n",
        "    X, Y = np.array( np.meshgrid(xVals, yVals, indexing='xy') )\n",
        "\n",
        "    s1 = lambda x,y: np.power( np.power(x/2, 2) + np.power(y, 2) - 1, 2)\n",
        "    s2 = lambda x,y: np.power( nHat[0]*x + nHat[1]*y -np.matmul(nHat, xHat) - (p+0.5*np.power( (tHat[0]*x+tHat[1]*y-np.matmul(tHat, xHat)),2 )) ,2 )\n",
        "    errFun = lambda x, y: np.sqrt(s1(x,y) + s2(x,y))\n",
        "    Z = np.log10(errFun(X, Y))\n",
        "\n",
        "    levels = np.arange(-2, 1, 0.25)\n",
        "    plt.contourf( xVals, yVals, Z, levels )\n",
        "\n",
        "    # Add parametrized curves\n",
        "    i = 0\n",
        "    for pdx in parametrizations:\n",
        "        params = np.linspace(paramRanges[i][0], paramRanges[i][1], N)\n",
        "        xyCoords = pdx(params, p)\n",
        "\n",
        "        if i == 1:\n",
        "            x = xyCoords[0, :]\n",
        "            y = xyCoords[1, :]\n",
        "        else:\n",
        "            x = xyCoords[0, :][0]\n",
        "            y = xyCoords[1, :][0]\n",
        "\n",
        "        plt.plot(x, y, paramStyles[i])\n",
        "\n",
        "        i += 1\n",
        "\n",
        "    plt.colorbar()\n",
        "    plt.xlabel('$x_1$', fontsize=16)\n",
        "    plt.ylabel('$x_2$', fontsize=16)\n",
        "    plt.title('Colormap corresponds to $\\log_{{10}}\\sqrt{{F_1^2 + F_2^2}}$, where $p = %4.2f $' % p, fontsize=16)\n"
      ]
    },
    {
      "cell_type": "code",
      "execution_count": 11,
      "metadata": {
        "colab": {
          "base_uri": "https://localhost:8080/",
          "height": 1000
        },
        "id": "ylj8yA5MhJ4-",
        "outputId": "f90b548e-328f-481e-e929-303e7d9b336a"
      },
      "outputs": [
        {
          "name": "stdout",
          "output_type": "stream",
          "text": [
            "EXPLORE THE CONVERGENCE OF THE METHOD\n",
            "\n",
            "    p      x0      success   iter    order\n",
            "---------------------------------------------------------\n"
          ]
        }
      ],
      "source": [
        "## Discussion question B.3\n",
        "\n",
        "# set up the components of F as described in equation (7) and the\n",
        "# jacobian components; you also need to define z, n and t\n",
        "\n",
        "# set up the initial guesses as defined in the pdf\n",
        "\n",
        "# print out the results as follows (or in a similar and readable way)\n",
        "print('EXPLORE THE CONVERGENCE OF THE METHOD')\n",
        "print('\\n    p      x0      success   iter    order')\n",
        "print('---------------------------------------------------------')\n",
        "\n",
        "# for each value of p, you have to \n",
        "# - print out all the information that you set up before\n",
        "# - use plotResidual_partB to plot the sequence {x^(k)}\n"
      ]
    },
    {
      "cell_type": "markdown",
      "metadata": {},
      "source": [
        "# **C. Iterative solution to system of linear equations**"
      ]
    },
    {
      "cell_type": "code",
      "execution_count": 12,
      "metadata": {
        "id": "xvtMrrtmhMht"
      },
      "outputs": [],
      "source": [
        "# INPUT\n",
        "# A                   NxN matrix\n",
        "# b                   Nx1 right-hand side\n",
        "# x0                  initial guess\n",
        "# static_richardson   boolean, True for static, False for dynamic\n",
        "# tol                 (optional) desired tolerance\n",
        "# maxIt               (optional) maximum number of iterations\n",
        "# alpha0              (optional) static parameter\n",
        "#\n",
        "# OUTPUT\n",
        "# x             approximate solution (last computed)\n",
        "# success       true means converged according to error estimator\n",
        "# errEst        error estimate per iteration = norm(x(k+1)-x(k))\n",
        "# xHist         array with intermediate solutions\n",
        "\n",
        "def richardson(A, b, x0, static_richardson, tol=1e-6, maxit=20, alpha0=10.):\n",
        "    #\n",
        "    # we want to solve Ax = b\n",
        "    # the method can be written as a fixed point iteration:\n",
        "    #       x_{k+1} = G(x_{k})\n",
        "    # where\n",
        "    #       G(x_{k}) = x_{k} - alpha_{k} * r_{k} =\n",
        "    #                = x_{k} - alpha_{k} * (b - A*x_{k})\n",
        "    #\n",
        "\n",
        "    # you can use an if statement to generate static and dynamic inside the \n",
        "    # function and add inputs before the optional ones if you need \n",
        "    # something else\n",
        "\n",
        "    return x, success, errEst, xHist\n"
      ]
    },
    {
      "cell_type": "code",
      "execution_count": 13,
      "metadata": {
        "colab": {
          "base_uri": "https://localhost:8080/",
          "height": 701
        },
        "id": "N4UtuxbhiX2n",
        "outputId": "f04081d5-d8df-4a41-f5b7-94fcbcc4e436"
      },
      "outputs": [],
      "source": [
        "## Discussion question C.1\n",
        "\n",
        "# set up the inputs of richardson() and consider creating a loop to vary alpha \n",
        "# and saving the number of iterations (it should help to minimize errors)\n"
      ]
    },
    {
      "cell_type": "code",
      "execution_count": 14,
      "metadata": {
        "colab": {
          "base_uri": "https://localhost:8080/",
          "height": 725
        },
        "id": "JLCwZHGQ2ZEI",
        "outputId": "1a92a159-2cca-4d1e-efb4-cc0822577f46"
      },
      "outputs": [],
      "source": [
        "## Discussion question C.2 (a)-(b)\n",
        "\n",
        "# set up the inputs for richardson() and x_star\n",
        "# set up the optimal value of alpha \n",
        "\n",
        "# find the root in both static and dynamic cases and plot the error estimates\n",
        "# and the true errors\n"
      ]
    },
    {
      "cell_type": "code",
      "execution_count": 15,
      "metadata": {
        "colab": {
          "base_uri": "https://localhost:8080/",
          "height": 496
        },
        "id": "mOwqAYQg2Z6Y",
        "outputId": "5b641128-121e-439c-eb8a-91b4c2ba70ed"
      },
      "outputs": [],
      "source": [
        "## Discussion question C.2 (c)-(d)\n",
        "\n",
        "# repeat the previous exercise modifying the system of equations\n"
      ]
    }
  ],
  "metadata": {
    "colab": {
      "provenance": []
    },
    "kernelspec": {
      "display_name": "Python 3",
      "name": "python3"
    },
    "language_info": {
      "codemirror_mode": {
        "name": "ipython",
        "version": 3
      },
      "file_extension": ".py",
      "mimetype": "text/x-python",
      "name": "python",
      "nbconvert_exporter": "python",
      "pygments_lexer": "ipython3",
      "version": "3.12.3"
    }
  },
  "nbformat": 4,
  "nbformat_minor": 0
}
